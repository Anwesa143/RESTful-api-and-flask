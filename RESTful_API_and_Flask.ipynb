{
  "nbformat": 4,
  "nbformat_minor": 0,
  "metadata": {
    "colab": {
      "provenance": []
    },
    "kernelspec": {
      "name": "python3",
      "display_name": "Python 3"
    },
    "language_info": {
      "name": "python"
    }
  },
  "cells": [
    {
      "cell_type": "markdown",
      "source": [
        "Theory questions"
      ],
      "metadata": {
        "id": "ALpySrpvgUwN"
      }
    },
    {
      "cell_type": "markdown",
      "source": [
        "1.What is a RESTful API?\n",
        "- A RESTful API (Representational State Transfer API) is an architectural style for designing web APIs that follows specific principles, including statelessness and client-server architecture. It uses standard HTTP methods like GET, POST, PUT, and DELETE to interact with resources represented by URLs.\n",
        "\n",
        "2.Explain the concept of API specification.\n",
        "- An API (Application Programming Interface) specification is a formal document that describes how an API is structured and how it should be used. It acts as a blueprint, outlining the API's design, functionality, and behavior. API specifications are crucial for developers to understand and integrate with an API, ensuring consistency and predictability.\n",
        "\n",
        "3.What is Flask, and why is it popular for building APIs?\n",
        "- Flask is a lightweight micro web framework in Python, well-suited for building RESTful APIs due to its flexibility and simplicity. Its popularity stems from being easy to learn, maintain, and extend. Flask is often preferred for API development because it provides a streamlined approach to building web applications and APIs without unnecessary overhead.\n",
        "\n",
        "4.What is routing in Flask?\n",
        "- In Flask, routing is the process of mapping specific URLs to corresponding Python functions, known as view functions. When a user accesses a URL, Flask matches it to a defined route and executes the associated function, returning a response. This mechanism allows for the creation of dynamic and well-organized web applications.\n",
        "\n",
        "5.How do you create a simple Flask application?\n",
        "- Installation: Ensure we have Python installed. Then, install Flask using pip.Create a Python File: Make a new Python file (e.g., app.py).Run the Application:\n",
        "Open your terminal, navigate to the directory containing your app.py file.\n",
        "\n",
        "6.What are HTTP methods used in RESTful APIs?\n",
        "- In RESTful APIs, the primary HTTP methods used for interacting with resources are GET, POST, PUT, PATCH, and DELETE. These methods correspond to the CRUD operations of Create, Read, Update, and Delete.\n",
        "\n",
        "7.What is the purpose of the @app.route() decorator in Flask?\n",
        "- The @app.route() decorator in Flask serves as a crucial component for mapping specific URLs to Python functions. It essentially establishes the routing mechanism for your web application. When a user accesses a particular URL, Flask uses this decorator to identify which function should be executed to handle that request.\n",
        "\n",
        "9.How do you handle errors in Flask APIs?\n",
        "- Error handling in Flask APIs is crucial for providing informative responses to clients when something goes wrong. Here's a breakdown of how it's typically handled:\n",
        "1. Built-in HTTP Exceptions: Flask utilizes Werkzeug's HTTP exceptions. These are classes that represent common HTTP error codes (e.g., 400 Bad Request, 404 Not Found, 500 Internal Server Error). You can raise these exceptions directly in your code.\n",
        "2. Error Handlers: Flask allows you to register custom error handlers using the @app.errorhandler decorator. These functions are called when a specific exception is raised. You can create handlers for standard HTTP exceptions or custom exceptions you define.\n",
        "3. Custom Exceptions: You can create your own exception classes by inheriting from Python's built-in Exception class or a more specific exception class. This allows you to define specific error types for your application.\n",
        "4. Abort Function: Flask provides an abort() function that raises an HTTPException with a given status code. This is useful for quickly returning an error response from a route.\n",
        "\n",
        "10.How do you connect Flask to a SQL database?\n",
        "- We set up Flask, connect it to a SQLite database (site.db), and use db.create_all() to create the database when the app runs. The app_context() ensures SQLAlchemy works properly.\n",
        "\n",
        "11.What is the role of Flask-SQLAlchemy?\n",
        "- Flask-SQLAlchemy is a Flask extension that makes using SQLAlchemy with Flask easier, providing you tools and methods to interact with your database in your Flask applications through SQLAlchemy. In this tutorial, you'll build a small student management system that demonstrates how to use the Flask-SQLAlchemy extension.\n",
        "\n",
        "12.What are Flask blueprints, and how are they useful?\n",
        "- Flask blueprints are a way to organize your Flask application into reusable and most importantly maintainable units.With blueprints, you can break your application into smaller, more manageable pieces, making it easier to maintain and scale.Using blueprints, we can create a flexible and extensible application structure that allows you to add new features and functionality without disrupting the existing codebase.\n",
        "\n",
        "14.How do you create a RESTful API endpoint using Flask?\n",
        "- REST stands for REpresentational State Transfer and is an architectural style used in modern web development. It defines a set or rules/constraints for a web application to send and receive data. In this article, we will build a REST API in Python using the Flask framework. Flask is a popular micro framework for building web applications. Since it is a micro-framework, it is very easy to use and lacks most of the advanced functionality which is found in a full-fledged framework. Therefore, building a REST API in Flask is very simple. There are two ways of creating a REST API in Flask:\n",
        "Using Flask without any external libraries and Using flask_restful library.\n",
        "\n",
        "15.What is the purpose of Flask's jsonify() function?\n",
        "- Flask's jsonify() function converts Python dictionaries or lists into JSON format and automatically sets the response's Content-Type header to application/json, making it suitable for creating JSON responses in web applications. It simplifies the process of returning JSON data from Flask routes and is commonly used in API development.\n",
        "\n",
        "17.How does Flask handle static files (CSS, JavaScript, etc.)?\n",
        "- Flask handles static files like CSS, JavaScript, and images by serving them directly from a designated directory, typically named \"static,\" within the application's directory structure.\n",
        "\n",
        "18.What is an API specification, and how does it help in building a Flask API?\n",
        "- A REST API (Representational State Transfer API) is a way for applications to communicate over the web using standard HTTP methods. It allows clients (such as web or mobile apps) to interact with a server by sending requests and receiving responses, typically in JSON format.\n",
        "\n",
        "19.What are HTTP status codes, and why are they important in a Flask API?\n",
        "- HTTP status codes are three-digit codes that indicate the outcome of an API request. They are included in the API's response to the API client, and they include important information that helps the client know how to proceed.\n",
        "\n",
        "21.How would you secure a Flask API?\n",
        "- Securing a Flask API involves multiple layers of protection to prevent unauthorized access and malicious attacks.\n",
        "1. Authentication and Authorization:\n",
        "Authentication: verifies the identity of the user or client.\n",
        "Authorization: determines what resources the authenticated user can access.\n",
        "2. Token-Based Authentication:\n",
        "Use JSON Web Tokens (JWTs) for authentication.\n",
        "After successful login, the server generates a JWT and sends it to the client.\n",
        "The client includes the JWT in the header of subsequent requests.\n",
        "The server verifies the JWT to authenticate the request.\n",
        "3. API Keys:\n",
        "Assign unique API keys to authorized users.\n",
        "API keys should be sent with each request.\n",
        "Implement IP whitelisting to restrict access based on IP addresses.\n",
        "Regenerate API keys periodically.\n",
        "4. Input Validation:\n",
        "Validate all incoming data to prevent SQL injection and cross-site scripting (XSS) attacks.\n",
        "Use Flask-WTF for CSRF protection.\n",
        "\n",
        "22.What is the significance of the Flask-RESTful extension?\n",
        "- The Flask RESTful extension significantly simplifies building RESTful APIs in Python using the Flask microframework. It provides tools and abstractions to make API development more organized, efficient, and easier to manage. Essentially, it enhances Flask with the capabilities to build robust and feature-rich RESTful APIs by handling common tasks like request parsing, response formatting, and resource management.\n",
        "\n",
        "23.What is the role of Flask’s session object?\n",
        "- In Flask, the session object allows you to store user-specific data across multiple HTTP requests, making it possible to maintain state between different interactions with a web application. It's like a temporary storage area that persists data throughout a user's session.\n",
        "\n"
      ],
      "metadata": {
        "id": "20nvaTxigdp8"
      }
    },
    {
      "cell_type": "code",
      "execution_count": null,
      "metadata": {
        "id": "Z08zCKKHgI1Y"
      },
      "outputs": [],
      "source": []
    },
    {
      "cell_type": "markdown",
      "source": [
        "Practical questions"
      ],
      "metadata": {
        "id": "v2_JBErppWQj"
      }
    },
    {
      "cell_type": "markdown",
      "source": [
        "1.How do you create a basic Flask application?\n",
        "- Step 1: Install Flask\n",
        "First, install Flask using pip:"
      ],
      "metadata": {
        "id": "9hOreY5Gpen7"
      }
    },
    {
      "cell_type": "code",
      "source": [
        "pip install Flask\n"
      ],
      "metadata": {
        "colab": {
          "base_uri": "https://localhost:8080/"
        },
        "id": "BETT5HbyrvtK",
        "outputId": "b9ea5e10-30ec-4e25-c534-2992b8af368e"
      },
      "execution_count": null,
      "outputs": [
        {
          "output_type": "stream",
          "name": "stdout",
          "text": [
            "Requirement already satisfied: Flask in /usr/local/lib/python3.11/dist-packages (3.1.1)\n",
            "Requirement already satisfied: blinker>=1.9.0 in /usr/local/lib/python3.11/dist-packages (from Flask) (1.9.0)\n",
            "Requirement already satisfied: click>=8.1.3 in /usr/local/lib/python3.11/dist-packages (from Flask) (8.2.1)\n",
            "Requirement already satisfied: itsdangerous>=2.2.0 in /usr/local/lib/python3.11/dist-packages (from Flask) (2.2.0)\n",
            "Requirement already satisfied: jinja2>=3.1.2 in /usr/local/lib/python3.11/dist-packages (from Flask) (3.1.6)\n",
            "Requirement already satisfied: markupsafe>=2.1.1 in /usr/local/lib/python3.11/dist-packages (from Flask) (3.0.2)\n",
            "Requirement already satisfied: werkzeug>=3.1.0 in /usr/local/lib/python3.11/dist-packages (from Flask) (3.1.3)\n"
          ]
        }
      ]
    },
    {
      "cell_type": "markdown",
      "source": [
        "   Step 2: Create a Python file (e.g., app.py)\n",
        "   Here's a minimal Flask app:"
      ],
      "metadata": {
        "id": "bppS3hCfsQnV"
      }
    },
    {
      "cell_type": "code",
      "source": [
        "from flask import Flask\n",
        "\n",
        "app = Flask(__name__)\n",
        "\n",
        "@app.route('/')\n",
        "def home():\n",
        "    return \"Hello, Flask!\"\n",
        "\n",
        "if __name__ == '__main__':\n",
        "    app.run(debug=True)\n"
      ],
      "metadata": {
        "id": "_gNQBvBUtVqv"
      },
      "execution_count": null,
      "outputs": []
    },
    {
      "cell_type": "markdown",
      "source": [
        "Step 3: Run the Application\n",
        "In the terminal or command prompt:"
      ],
      "metadata": {
        "id": "qeSBAIi1tXjg"
      }
    },
    {
      "cell_type": "code",
      "source": [
        "python app.py\n"
      ],
      "metadata": {
        "id": "mRKix9SEtgIu"
      },
      "execution_count": null,
      "outputs": []
    },
    {
      "cell_type": "code",
      "source": [
        " * Running on http://127.0.0.1:5000/ (Press CTRL+C to quit)\n"
      ],
      "metadata": {
        "id": "fnNFRxwiuW8v"
      },
      "execution_count": null,
      "outputs": []
    },
    {
      "cell_type": "markdown",
      "source": [
        "3.How do you define different routes with different HTTP methods in Flask?\n",
        "- In Flask, you can define routes that respond to different HTTP methods (like GET, POST, PUT, DELETE) using the methods parameter in the @app.route() decorator."
      ],
      "metadata": {
        "id": "YV4bxKOluZj-"
      }
    },
    {
      "cell_type": "code",
      "source": [
        "from flask import Flask, request\n",
        "\n",
        "app = Flask(__name__)\n",
        "\n",
        "@app.route('/', methods=['GET'])\n",
        "def home():\n",
        "    return \"This is a GET request\"\n",
        "\n",
        "@app.route('/submit', methods=['POST'])\n",
        "def submit():\n",
        "    return \"This is a POST request\"\n"
      ],
      "metadata": {
        "id": "EysV4U_AvdwA"
      },
      "execution_count": null,
      "outputs": []
    },
    {
      "cell_type": "markdown",
      "source": [
        "4.How do you render HTML templates in Flask?\n",
        "- Folder Structure"
      ],
      "metadata": {
        "id": "P5dFq4upv2pg"
      }
    },
    {
      "cell_type": "code",
      "source": [
        "my_flask_app/\n",
        "├── app.py\n",
        "└── templates/\n",
        "    └── hello.html\n"
      ],
      "metadata": {
        "id": "wBOn4wjPwaJ8"
      },
      "execution_count": null,
      "outputs": []
    },
    {
      "cell_type": "markdown",
      "source": [
        "Step 1: Create app.py"
      ],
      "metadata": {
        "id": "dSciLK3iwbkP"
      }
    },
    {
      "cell_type": "code",
      "source": [
        "from flask import Flask, render_template\n",
        "\n",
        "app = Flask(__name__)\n",
        "\n",
        "@app.route('/')\n",
        "def home():\n",
        "    return render_template('hello.html', name='Anwesa')\n",
        "\n",
        "if __name__ == '__main__':\n",
        "    app.run(debug=True)\n"
      ],
      "metadata": {
        "id": "evQWVK19w5X4"
      },
      "execution_count": null,
      "outputs": []
    },
    {
      "cell_type": "markdown",
      "source": [
        "Step 2: Create templates/hello.html"
      ],
      "metadata": {
        "id": "9s9pO9YBw6wc"
      }
    },
    {
      "cell_type": "code",
      "source": [
        "<!-- templates/hello.html -->\n",
        "<!DOCTYPE html>\n",
        "<html>\n",
        "<head>\n",
        "    <title>My First Template</title>\n",
        "</head>\n",
        "<body>\n",
        "    <h1>Hello, {{ name }}!</h1>\n",
        "</body>\n",
        "</html>\n"
      ],
      "metadata": {
        "id": "g0DhRV0jxAqm"
      },
      "execution_count": null,
      "outputs": []
    },
    {
      "cell_type": "markdown",
      "source": [
        "Step 3: Run It\n",
        "In your terminal or command prompt:"
      ],
      "metadata": {
        "id": "mq4ZhkOzxFko"
      }
    },
    {
      "cell_type": "code",
      "source": [
        "python app.py\n"
      ],
      "metadata": {
        "id": "yv9YkYPPxLmU"
      },
      "execution_count": null,
      "outputs": []
    },
    {
      "cell_type": "markdown",
      "source": [
        "5.How can you generate URLs for routes in Flask using url_for?"
      ],
      "metadata": {
        "id": "VWCyfiPexUgH"
      }
    },
    {
      "cell_type": "code",
      "source": [
        "from flask import Flask, url_for\n",
        "\n",
        "app = Flask(__name__)\n",
        "\n",
        "@app.route('/')\n",
        "def home():\n",
        "    return 'This is the home page'\n",
        "\n",
        "@app.route('/about')\n",
        "def about():\n",
        "    return 'This is the about page'\n",
        "\n",
        "@app.route('/link')\n",
        "def link():\n",
        "    # Generate URL for the 'about' route\n",
        "    return f'Go to the <a href=\"{url_for(\"about\")}\">About Page</a>'\n",
        "\n",
        "if __name__ == '__main__':\n",
        "    app.run(debug=True)\n"
      ],
      "metadata": {
        "id": "nbfcGFGMxdBK"
      },
      "execution_count": null,
      "outputs": []
    },
    {
      "cell_type": "markdown",
      "source": [
        "7.How can you validate form data in Flask?"
      ],
      "metadata": {
        "id": "x2UH4IIfhXjw"
      }
    },
    {
      "cell_type": "code",
      "source": [
        "from flask import Flask, request, render_template\n",
        "\n",
        "app = Flask(__name__)\n",
        "\n",
        "@app.route('/')\n",
        "def home():\n",
        "    return render_template('form.html')\n",
        "\n",
        "@app.route('/submit', methods=['POST'])\n",
        "def submit():\n",
        "    name = request.form['name']\n",
        "    return f\"<h2>Hello, {name}! You submitted the form.</h2>\"\n",
        "\n",
        "if __name__ == '__main__':\n",
        "    app.run(debug=True)\n"
      ],
      "metadata": {
        "id": "_x5hI9Zfh_-f"
      },
      "execution_count": null,
      "outputs": []
    },
    {
      "cell_type": "markdown",
      "source": [
        "9.How do you redirect to a different route in Flask?"
      ],
      "metadata": {
        "id": "IOt3jAxXiKeG"
      }
    },
    {
      "cell_type": "code",
      "source": [
        "from flask import Flask, redirect, url_for, render_template\n",
        "\n",
        "app = Flask(__name__)\n",
        "\n",
        "@app.route('/')\n",
        "def home():\n",
        "    return render_template('home.html')\n",
        "\n",
        "@app.route('/go')\n",
        "def go_somewhere():\n",
        "    return redirect(url_for('hello'))\n",
        "\n",
        "@app.route('/hello')\n",
        "def hello():\n",
        "    return \"<h2>Hello! You have been redirected.</h2>\"\n",
        "\n",
        "if __name__ == '__main__':\n",
        "    app.run(debug=True)\n"
      ],
      "metadata": {
        "id": "aoIOKKd-iQ3A"
      },
      "execution_count": null,
      "outputs": []
    },
    {
      "cell_type": "markdown",
      "source": [
        "14.How do you return JSON responses in Flask?"
      ],
      "metadata": {
        "id": "f-evDtceijuj"
      }
    },
    {
      "cell_type": "code",
      "source": [
        "from flask import Flask, jsonify\n",
        "\n",
        "app = Flask(__name__)\n",
        "\n",
        "@app.route('/api/data')\n",
        "def get_data():\n",
        "    return jsonify({\n",
        "        'name': 'Anwesa',\n",
        "        'age': 21,\n",
        "        'status': 'active'\n",
        "    })\n",
        "\n",
        "if __name__ == '__main__':\n",
        "    app.run(debug=True)\n"
      ],
      "metadata": {
        "id": "uPJni2Qviqp7"
      },
      "execution_count": null,
      "outputs": []
    },
    {
      "cell_type": "markdown",
      "source": [
        "15.How do you capture URL parameters in Flask?"
      ],
      "metadata": {
        "id": "F6LUtTyDjF_A"
      }
    },
    {
      "cell_type": "code",
      "source": [
        "from flask import Flask\n",
        "\n",
        "app = Flask(__name__)\n",
        "\n",
        "@app.route('/user/<username>')\n",
        "def show_user(username):\n",
        "    return f\"Hello, {username}!\"\n"
      ],
      "metadata": {
        "id": "oREqL7OyjPxz"
      },
      "execution_count": null,
      "outputs": []
    }
  ]
}